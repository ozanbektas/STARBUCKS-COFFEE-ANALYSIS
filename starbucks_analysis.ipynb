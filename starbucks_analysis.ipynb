{
 "cells": [
  {
   "cell_type": "code",
   "execution_count": null,
   "metadata": {},
   "outputs": [],
   "source": [
    "import pandas as pd\n",
    "import numpy as np\n",
    "import matplotlib.pyplot as plt \n",
    "import seaborn as sns\n",
    "\n",
    "data = pd.read_csv(\"C:/Users/ozann/OneDrive/Masaüstü/databank/starbucks/asıl data.csv\")\n",
    "data.head()"
   ]
  },
  {
   "attachments": {},
   "cell_type": "markdown",
   "metadata": {},
   "source": [
    "İlk 5 datayı görmek için data.head() komutunu kullandım.Sonrasında null değerleri bulup temizlemek ve datayı temiz hale getirmek için null değerleri görüntüledim"
   ]
  },
  {
   "cell_type": "code",
   "execution_count": null,
   "metadata": {},
   "outputs": [],
   "source": [
    "data.isnull().sum()"
   ]
  },
  {
   "attachments": {},
   "cell_type": "markdown",
   "metadata": {},
   "source": [
    "Sonrasında datadaki null değerleri çıkarmak için data = data.dropna() metodunu kullandım ve null değerleri çıkardım. Null değerlerin veri analizinde yapmış olduğu hatalar sebebiyle null değerleri silmek, iyi bir algortima yaratmaya yardım eder."
   ]
  },
  {
   "cell_type": "code",
   "execution_count": null,
   "metadata": {},
   "outputs": [],
   "source": [
    "data = data.dropna()\n",
    "data = data[data['size'] == 'Grande']\n",
    "\n",
    "data['type'] = data['type'].replace({'Frappuccino® Blended Beverages':'Frappuccinos'})\n",
    "data['drink_name'] = data['drink_name'].str.replace('Frappuccino® Blended Beverage', 'Frappuccino')\n",
    "data['drink_name'] = data['drink_name'].str.replace('Frappuccino®', 'Frappuccino')\n",
    "data.head()\n"
   ]
  },
  {
   "cell_type": "code",
   "execution_count": null,
   "metadata": {},
   "outputs": [],
   "source": [
    "data.shape"
   ]
  },
  {
   "attachments": {},
   "cell_type": "markdown",
   "metadata": {},
   "source": [
    "data.shape komutu ile datalarımdan ne kadar satır ve sütun sildiğime baktım ve temiz veriyi gördüm."
   ]
  },
  {
   "cell_type": "code",
   "execution_count": null,
   "metadata": {},
   "outputs": [],
   "source": [
    "data.describe()"
   ]
  },
  {
   "attachments": {},
   "cell_type": "markdown",
   "metadata": {},
   "source": [
    "Sonrasında Starbuckstaki en sağlıksız,kafein,şeker ve kalori oranı en yüksek kahvesini bulmak için maksimum değerlere baktım."
   ]
  },
  {
   "cell_type": "code",
   "execution_count": null,
   "metadata": {},
   "outputs": [],
   "source": [
    "data.groupby('type').mean()"
   ]
  },
  {
   "attachments": {},
   "cell_type": "markdown",
   "metadata": {},
   "source": [
    "Starbuckstaki içeceklerin ne kadarlık bi kısmı kafein içeriyor? "
   ]
  },
  {
   "cell_type": "code",
   "execution_count": null,
   "metadata": {},
   "outputs": [],
   "source": [
    "caf_perc = round(len(data[data.caffeine > 0]) / len(data) * 100, 2)\n",
    "print('Percentage of menu drinks that contain caffeine: ', caf_perc, '%', sep='')"
   ]
  },
  {
   "attachments": {},
   "cell_type": "markdown",
   "metadata": {},
   "source": [
    "Starbucks menüsündeki içeceklerin %85.6 sı kafeinli içecek."
   ]
  },
  {
   "attachments": {},
   "cell_type": "markdown",
   "metadata": {},
   "source": [
    "Bu içecek menüsündeki sıcak,soğuk içecekler, çaylar,frappucinoların verilerini grafik ile inceleyelim;"
   ]
  },
  {
   "cell_type": "code",
   "execution_count": null,
   "metadata": {},
   "outputs": [],
   "source": [
    "data['type'].value_counts().plot(kind='bar', figsize=(10, 6), rot=0, color='orange')\n",
    "plt.title('Variety in Starbucks Drink Categories', fontsize=16)\n",
    "plt.xlabel(\"Drink Category\")\n",
    "plt.ylabel(\"Number of Drinks\")\n",
    "plt.show()"
   ]
  },
  {
   "cell_type": "code",
   "execution_count": null,
   "metadata": {},
   "outputs": [],
   "source": [
    "plt.figure(figsize=(10,8), dpi= 80)\n",
    "sns.heatmap(data.corr(), xticklabels=data.corr().columns, yticklabels=data.corr().columns, cmap='Greens', center=0, annot=True)\n",
    "\n",
    "# Decorations\n",
    "plt.title('Correlogram of Starbucks Nutrition Types', fontsize=16)\n",
    "plt.xticks(fontsize=12)\n",
    "plt.yticks(fontsize=12)\n",
    "plt.show()"
   ]
  },
  {
   "attachments": {},
   "cell_type": "markdown",
   "metadata": {},
   "source": [
    "### Bu korelogram, Starbucks içeceklerindeki her bir beslenme türü arasındaki korelasyonları gösterir. Daha koyu yeşil renkler, daha yüksek (daha pozitif) bir beslenme türü korelasyonunu kodlar. Kafein dışında her beslenme türü birbiriyle pozitif bir korelasyon gösterir - kafeinin diğer beslenme türleri ile hafif bir negatif korelasyonu veya sıfıra yakın bir korelasyonu vardır. Bu, hem şekerli hem de şekersiz içeceklerde farklı seviyelerde kafein bulunabileceğini düşündürebilir. En güçlü pozitif korelasyon, yağ ve kolesterol arasındadır; bu mantıklıdır, çünkü kolesterol birçok lipit türünden biridir. Benzer şekilde, şeker bir karbonhidrat olduğundan, karbonhidratlar ve şeker ikinci en güçlü korelasyona sahiptir.\n",
    "\n",
    "### Diğer çok güçlü pozitif ilişkiler şunlardır: kalori~karbonhidratlar, kalori~yağ, kalori~kolesterol ve kalori~şeker. Bu korelasyonlar, Starbucks beslenmesinde herhangi bir benzersiz gözleme işaret etmese de, korelasyonların genel olarak anlamlı olduğunu doğrulamak iyidir."
   ]
  },
  {
   "attachments": {},
   "cell_type": "markdown",
   "metadata": {},
   "source": [
    "# Hangi ürünlerin kalorisi en yüksek?"
   ]
  },
  {
   "cell_type": "code",
   "execution_count": null,
   "metadata": {},
   "outputs": [],
   "source": [
    "data.nlargest(5, 'calories')[['drink_name', 'calories']]"
   ]
  },
  {
   "attachments": {},
   "cell_type": "markdown",
   "metadata": {},
   "source": [
    "|drink_name                                 |  calories  |\n",
    "|-------------------------------------------|------------|\n",
    "|Salted Caramel Mocha                       |    470     |\n",
    "|Mocha Cookie Crumble Frappucc              |    470     |\n",
    "|Caramel Ribbon Crunch Frappuccino          |    470     |\n",
    "|Salted Caramel Hot Chocolate               |    460     |\n",
    "|Chocolate Cookie Crumble Crème Frappuccino |    450     |\n",
    "\t\t\n",
    "\t"
   ]
  },
  {
   "cell_type": "code",
   "execution_count": null,
   "metadata": {},
   "outputs": [],
   "source": [
    "fig = plt.figure(figsize = (6, 4))\n",
    "plt.hist(data.calories, bins = 8, rwidth= 0.85, color='green')\n",
    "plt.title('Distribution of Starbucks Calories')\n",
    "plt.xlabel(\"Calories\")\n",
    "plt.ylabel(\"Number of Drinks\")\n",
    "plt.show()"
   ]
  },
  {
   "attachments": {},
   "cell_type": "markdown",
   "metadata": {},
   "source": [
    "# Hangi ürünlerin kafeini daha yüksek?"
   ]
  },
  {
   "cell_type": "code",
   "execution_count": null,
   "metadata": {},
   "outputs": [],
   "source": [
    "data.nlargest(5, 'caffeine')[['drink_name', 'caffeine']]"
   ]
  },
  {
   "attachments": {},
   "cell_type": "markdown",
   "metadata": {},
   "source": [
    "|drink_name                                 |  caffeine  |\n",
    "|-------------------------------------------|------------|\n",
    "|Blonde Roast                               |    360     |\n",
    "|Pike Place                                 |    310     |\n",
    "|Nitro Cold Brew with Dark Cocoa            |    280     |\n",
    "|Starbucks Reserve Nitro Cold Brew          |    280     |\n",
    "|Nitro Cold Brew                            |    280     |\n",
    "\t\t"
   ]
  },
  {
   "cell_type": "code",
   "execution_count": null,
   "metadata": {},
   "outputs": [],
   "source": [
    "fig = plt.figure(figsize = (6, 4))\n",
    "plt.hist(data.caffeine, bins = 8, rwidth= 0.85, color='green')\n",
    "plt.title('Distribution of Starbucks Caffeine')\n",
    "plt.xlabel(\"Caffeine (g)\")\n",
    "plt.ylabel(\"Number of Drinks\")\n",
    "plt.show()"
   ]
  },
  {
   "cell_type": "code",
   "execution_count": null,
   "metadata": {},
   "outputs": [],
   "source": [
    "data.nlargest(5, 'calories')[['drink_name', 'calories']]"
   ]
  },
  {
   "cell_type": "code",
   "execution_count": null,
   "metadata": {},
   "outputs": [],
   "source": [
    "fig = plt.figure(figsize = (6, 4))\n",
    "plt.hist(data.caffeine, bins = 8, rwidth= 0.85, color='green')\n",
    "plt.title('Distribution of Starbucks Caffeine')\n",
    "plt.xlabel(\"Caffeine (g)\")\n",
    "plt.ylabel(\"Number of Drinks\")\n",
    "plt.show()\n"
   ]
  },
  {
   "cell_type": "code",
   "execution_count": null,
   "metadata": {},
   "outputs": [],
   "source": [
    "data.nsmallest(10, 'calories')[['drink_name', 'calories']]"
   ]
  },
  {
   "cell_type": "code",
   "execution_count": null,
   "metadata": {},
   "outputs": [],
   "source": [
    "fig = plt.figure(figsize = (8, 6))\n",
    "plt.scatter(data.calories, data.sugar, c=data.caffeine, cmap='Greens')\n",
    "cbar = plt.colorbar()\n",
    "cbar.set_label('Caffeine (g)', rotation=270)\n",
    "\n",
    "# draw line\n",
    "plt.plot(np.unique(data.calories), np.poly1d(np.polyfit(data.calories, data.sugar, 2))\n",
    "         (np.unique(data.calories)), color = 'black')\n",
    "\n",
    "plt.title('Calories vs Sugar in Starbucks Drinks', fontsize=16)\n",
    "plt.xlabel(\"Calories\")\n",
    "plt.ylabel(\"Sugar (g)\")\n",
    "plt.show()"
   ]
  },
  {
   "cell_type": "code",
   "execution_count": null,
   "metadata": {},
   "outputs": [],
   "source": [
    "sns.set(palette=\"muted\")\n",
    "sns.catplot(x=\"type\", y=\"caffeine\", hue=\"type\",\n",
    "            kind=\"swarm\", data=data, aspect=1.5);\n",
    "plt.title(\"Caffeine by Drink Type\", fontsize=16)\n",
    "plt.show()"
   ]
  },
  {
   "cell_type": "code",
   "execution_count": null,
   "metadata": {},
   "outputs": [],
   "source": [
    "sns.catplot(x=\"type\", y=\"calories\",\n",
    "            kind=\"swarm\", data=data, aspect=1.5);\n",
    "plt.title(\"Calories by Drink Type\", fontsize=16)\n",
    "plt.show()"
   ]
  },
  {
   "cell_type": "code",
   "execution_count": null,
   "metadata": {},
   "outputs": [],
   "source": [
    "sns.catplot(x=\"type\", y=\"sugar\",\n",
    "            kind=\"swarm\", data=data, aspect=1.5);\n",
    "plt.title(\"Sugar by Drink Type\", fontsize=16)\n",
    "plt.show()"
   ]
  },
  {
   "attachments": {},
   "cell_type": "markdown",
   "metadata": {},
   "source": [
    "\n",
    "## Frappuccino kategorisi, kolayca en fazla kalori ve şeker içeren kategori olarak tanımlanır. Bu kategorideki puanların çoğu 350 kalorinin ve 40 gram şekerin üzerindedir."
   ]
  },
  {
   "cell_type": "code",
   "execution_count": null,
   "metadata": {},
   "outputs": [],
   "source": [
    "sns.lmplot(x=\"calories\", y=\"sugar\", hue=\"type\",\n",
    "           data=data, aspect=1.5);\n",
    "plt.title(\"Calories & Sugar in Starbucks Drink Types\", fontsize=16)\n",
    "plt.show()"
   ]
  },
  {
   "attachments": {},
   "cell_type": "markdown",
   "metadata": {},
   "source": [
    "# Tüm beslenme türleri için g/mg değerlerine bakmak bize pek bir şey söylemez çünkü her beslenme türünün miktarlarını farklı ölçeklerle karşılaştıramayız. Bunu standardize etmek için, her tür için beslenme değerlerinin günlük önerilen alım miktarına kıyasla nasıl olduğunu bilmek istiyorum.\n",
    "\n",
    "## FDA nın verilerine göre;\n",
    "- Calories: 2000\n",
    "- Fat: 78g\n",
    "- Cholesterol: 300mg\n",
    "- Sodium: 2300mg\n",
    "- Carbohydrates: 275g\n",
    "\n",
    "- Protein: 50g\n",
    "\n",
    "# Yetişkin bireylerin günlük kafein alım oranı,maksimum değer 400 mg ın üzerine çıkmamaktır.Bu noktada, starbucks ürünlerinin besin değerlerinin günlük ihtiyacımızın üzerine çıkıp çıkmadığına bakıyorum;\n"
   ]
  },
  {
   "cell_type": "code",
   "execution_count": null,
   "metadata": {},
   "outputs": [],
   "source": [
    "dv = data.copy(deep=True)\n",
    "dv.calories = dv.calories / 2000 * 100\n",
    "dv.fat = dv.fat / 78 * 100\n",
    "dv.cholesterol = dv.cholesterol / 300 * 100\n",
    "dv.sodium = dv.sodium / 2300 * 100\n",
    "dv.carb = dv.carb / 275 * 100\n",
    "dv = dv.drop(columns=['sugar']) # no daily level for total sugars\n",
    "dv.protein = dv.protein / 50 * 100\n",
    "dv.caffeine = dv.caffeine / 400 * 100"
   ]
  },
  {
   "cell_type": "code",
   "execution_count": null,
   "metadata": {},
   "outputs": [],
   "source": [
    "dv.head()"
   ]
  },
  {
   "cell_type": "code",
   "execution_count": null,
   "metadata": {},
   "outputs": [],
   "source": [
    "dv.mean()"
   ]
  },
  {
   "cell_type": "code",
   "execution_count": null,
   "metadata": {},
   "outputs": [],
   "source": [
    "dv.max()[3:]"
   ]
  },
  {
   "attachments": {},
   "cell_type": "markdown",
   "metadata": {},
   "source": [
    "|calories   |    23.5    |\n",
    "|-----------|------------|\n",
    "|fat        |    30.7692 |\n",
    "|cholesterol|    21.6667 |\n",
    "|sodium     |    16.5217 |\n",
    "|carb       |    28      |\n",
    "|protein    |    30      |\n",
    "|caffeine   |    90      |\n",
    "\n",
    "# hiçbir içecek günlük ihtiacın 1/3 ünün üzerine çıkmıyor."
   ]
  },
  {
   "cell_type": "code",
   "execution_count": null,
   "metadata": {},
   "outputs": [],
   "source": [
    "dv.nlargest(10, 'caffeine')[['drink_name', 'caffeine']]"
   ]
  },
  {
   "attachments": {},
   "cell_type": "markdown",
   "metadata": {},
   "source": [
    "# En yüksek kafein değeri olan içeceğe bakıyorum ve Blonde Roast adlı ürünün en yüksek kafein değerine sahip olduğunu gördüm.\n",
    "\n",
    "| drink_name                   | caffeine   |\n",
    "| Blonde Roast                 |    90      |\n",
    "|Pike place                    |    70      |\n",
    "|Nitro Cold Brew dark chocolate|    70      |\n",
    "|Starbucks Reserve             |    70      |\n",
    "|Nitro Cold Brew               |    70      |\n",
    "|Nitro Cold Brew with Cinnamon |    68      |"
   ]
  },
  {
   "attachments": {},
   "cell_type": "markdown",
   "metadata": {},
   "source": [
    "# Blonde Roast günlük kafein ihtiyacımızın %90 ını karşılıyor."
   ]
  },
  {
   "cell_type": "code",
   "execution_count": null,
   "metadata": {},
   "outputs": [],
   "source": [
    "dv.nlargest(10, 'calories')[['drink_name', 'calories']]"
   ]
  },
  {
   "attachments": {},
   "cell_type": "markdown",
   "metadata": {},
   "source": [
    "# 23.5 kalorilik değeriyle Salted Caramel Mocha'nın en kalorili içecek olduğunu gördüm. "
   ]
  },
  {
   "cell_type": "code",
   "execution_count": null,
   "metadata": {},
   "outputs": [],
   "source": [
    "heatmap = dv.groupby('type').mean()\n",
    "\n",
    "plt.figure(figsize=(8,6))\n",
    "plt.title('Average Nutrition Daily Intake % of Starbucks Items by Category', fontsize=16)\n",
    "sns.heatmap(heatmap, cmap=\"Greens\", annot=True)"
   ]
  },
  {
   "cell_type": "code",
   "execution_count": null,
   "metadata": {},
   "outputs": [],
   "source": [
    "dv[(dv['caffeine'] > 60 )].sort_values(by=['caffeine'], ascending=False)"
   ]
  },
  {
   "cell_type": "code",
   "execution_count": null,
   "metadata": {},
   "outputs": [],
   "source": [
    "dv[(dv['calories'] >= 20) & (dv['carb'] > 20)].sort_values(by=['calories', 'carb'], ascending=False)"
   ]
  },
  {
   "attachments": {},
   "cell_type": "markdown",
   "metadata": {},
   "source": [
    "# Ve en sağlıksız içecekler...\n",
    "## %60 DV'den daha fazla kafein ve %20 DV'den daha fazla kalori ve karbonhidrat ile işte en kötü içecekleriniz!"
   ]
  },
  {
   "attachments": {},
   "cell_type": "markdown",
   "metadata": {},
   "source": [
    "# Kafein içeriği en yüksek olan içecek\n",
    "- Blonde Roast 90.00mg\n",
    "\n",
    "# En kalorili ve en sağlıksız içecek!\n",
    "- Salted Caramel Mocha!\n",
    "\n"
   ]
  }
 ],
 "metadata": {
  "language_info": {
   "name": "python"
  },
  "orig_nbformat": 4
 },
 "nbformat": 4,
 "nbformat_minor": 2
}
